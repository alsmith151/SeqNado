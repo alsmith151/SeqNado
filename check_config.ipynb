{
 "cells": [
  {
   "cell_type": "code",
   "execution_count": null,
   "id": "7e3f2593",
   "metadata": {},
   "outputs": [],
   "source": [
    "from seqnado.config import WorkflowConfig\n",
    "from seqnado.config import (\n",
    "    GenomeConfig,\n",
    "    ProjectConfig,\n",
    "    BowtieIndex,\n",
    "    AssayConfig,\n",
    "    BigwigConfig,\n",
    "    PeakCallingConfig,\n",
    "    SpikeInConfig,\n",
    "    UCSCHubConfig,\n",
    "    PlottingConfig,\n",
    "    WorkflowConfig\n",
    ")\n",
    "from seqnado import Assay\n",
    "from datetime import datetime\n",
    "from pathlib import Path\n",
    "from jinja2 import Template, Environment, FileSystemLoader\n",
    "from seqnado.config.user_input import get_tool_options"
   ]
  },
  {
   "cell_type": "code",
   "execution_count": null,
   "id": "7da0948c",
   "metadata": {},
   "outputs": [
    {
     "ename": "SyntaxError",
     "evalue": "expected argument value expression (2096520468.py, line 18)",
     "output_type": "error",
     "traceback": [
      "  \u001b[36mCell\u001b[39m\u001b[36m \u001b[39m\u001b[32mIn[2]\u001b[39m\u001b[32m, line 18\u001b[39m\n\u001b[31m    \u001b[39m\u001b[31mbigwigs=\u001b[39m\n    ^\n\u001b[31mSyntaxError\u001b[39m\u001b[31m:\u001b[39m expected argument value expression\n"
     ]
    }
   ],
   "source": [
    "wc = WorkflowConfig(\n",
    "    assay=Assay.RNA,\n",
    "    genome=GenomeConfig(\n",
    "        name=\"GRCh38\",\n",
    "        index=BowtieIndex(\n",
    "            prefix='../../../reference/hg38_ecoli_b2t_index/bt2_index/hg38_ecoli'\n",
    "        )\n",
    "    ),\n",
    "    project=ProjectConfig(\n",
    "        name=\"Test Project\",\n",
    "        date=datetime.today(),\n",
    "        description=\"This is a test project\",\n",
    "        output_dir=\"test_output\",\n",
    "        directory=\"test_directory\",\n",
    "    ),\n",
    "    metadata=Path(\"test_metadata.yaml\"),\n",
    "    assay_config=AssayConfig.RNA.value(\n",
    "        bigwigs=BigwigConfig(\n",
    "            pileup_method=\n",
    "    )\n",
    "    options=get_tool_options(Assay.RNA)\n",
    ")\n",
    "\n"
   ]
  },
  {
   "cell_type": "code",
   "execution_count": null,
   "id": "fdfc0be4",
   "metadata": {},
   "outputs": [
    {
     "data": {
      "text/plain": [
       "{'bigwigs': FieldInfo(annotation=Union[BigwigConfig, NoneType], required=False, default=None),\n",
       " 'plotting': FieldInfo(annotation=Union[PlottingConfig, NoneType], required=False, default=None),\n",
       " 'ucsc_hub': FieldInfo(annotation=Union[UCSCHubConfig, NoneType], required=False, default=None),\n",
       " 'dataset_for_ml': FieldInfo(annotation=Union[MLDatasetConfig, NoneType], required=False, default=None),\n",
       " 'create_geo_submission_files': FieldInfo(annotation=bool, required=False, default=False),\n",
       " 'create_heatmaps': FieldInfo(annotation=bool, required=False, default=False),\n",
       " 'options': FieldInfo(annotation=str, required=False, default=''),\n",
       " 'rna_quantification': FieldInfo(annotation=Union[RNAQuantificationConfig, NoneType], required=False, default=None)}"
      ]
     },
     "execution_count": 15,
     "metadata": {},
     "output_type": "execute_result"
    }
   ],
   "source": [
    "ASSAY_CONFIG_MAP[Assay.RNA].model_fields"
   ]
  },
  {
   "cell_type": "code",
   "execution_count": null,
   "id": "ea8ad803",
   "metadata": {},
   "outputs": [],
   "source": [
    "dumped = wc.model_dump_json()"
   ]
  },
  {
   "cell_type": "code",
   "execution_count": null,
   "id": "b5d540e3",
   "metadata": {},
   "outputs": [
    {
     "data": {
      "text/plain": [
       "WorkflowConfig(assay=<Assay.RNA: 'rna'>, project=ProjectConfig(name='Test Project', date=datetime.datetime(2025, 7, 27, 18, 46, 49, 632023), directory=PosixPath('test_directory')), genome=GenomeConfig(name='GRCh38', index=BowtieIndex(type='Bowtie2', prefix='../../../reference/hg38_ecoli_b2t_index/bt2_index/hg38_ecoli'), fasta=None, chromosome_sizes=None, gtf=None, genes=None, blacklist=None, organism=None, version=None), metadata=PosixPath('test_metadata.yaml'), pcr_duplicates=PCRDuplicatesConfig(strategy=<PCRDuplicateHandling.NONE: 'none'>, tool=<PCRDuplicateTool.PICARD: 'picard'>), qc=QCConfig(library_size=True, fraction_of_reads_in_peaks=True), assay_config=None, options='bamnado:\\n  bamcoverage: --bin-size 10 --norm-method cpm\\n  threads: 8\\ndeeptools:\\n  alignmentsieve: --minMappingQuality 30\\n  bamcoverage: -bs 1 --normalizeUsing CPM\\n  threads: 16\\nfeaturecounts:\\n  options: -s 0 -p --countReadPairs -t exon -g gene_id\\n  threads: 16\\nheatmap:\\n  colormap: RdYlBu_r\\n  options: -b 1000 -m 5000 -a 1000 --binSize 50\\nhomer:\\n  makebigwig: null\\n  maketagdirectory: null\\npicard:\\n  options: null\\n  threads: 8\\nsalmon:\\n  options: --libType A\\n  threads: 16\\nsamtools:\\n  filter_options: -f 2\\n  threads: 16\\nstar:\\n  options: --quantMode TranscriptomeSAM GeneCounts --outSAMunmapped Within --outSAMattributes\\n    Standard\\n  threads: 16\\ntrim_galore:\\n  options: --2colour 20\\n  threads: 4\\n')"
      ]
     },
     "execution_count": 4,
     "metadata": {},
     "output_type": "execute_result"
    }
   ],
   "source": [
    "WorkflowConfig.model_validate_json(dumped)"
   ]
  },
  {
   "cell_type": "code",
   "execution_count": null,
   "id": "cae73f76",
   "metadata": {},
   "outputs": [
    {
     "data": {
      "text/plain": [
       "{'assay': FieldInfo(annotation=Assay, required=True),\n",
       " 'project': FieldInfo(annotation=ProjectConfig, required=True),\n",
       " 'genome': FieldInfo(annotation=GenomeConfig, required=True),\n",
       " 'metadata': FieldInfo(annotation=Path, required=True),\n",
       " 'pcr_duplicates': FieldInfo(annotation=PCRDuplicatesConfig, required=False, default=PCRDuplicatesConfig(strategy=<PCRDuplicateHandling.NONE: 'none'>, tool=<PCRDuplicateTool.PICARD: 'picard'>)),\n",
       " 'qc': FieldInfo(annotation=QCConfig, required=False, default=QCConfig(library_size=True, fraction_of_reads_in_peaks=True)),\n",
       " 'assay_config': FieldInfo(annotation=Union[ATACAssayConfig, ChIPAssayConfig, CATAssayConfig, RNAAssayConfig, SNPAssayConfig, MCCAssayConfig, METHAssayConfig, CRISPRAssayConfig, NoneType], required=False, default=None),\n",
       " 'options': FieldInfo(annotation=Union[str, NoneType], required=False, default=None)}"
      ]
     },
     "execution_count": 5,
     "metadata": {},
     "output_type": "execute_result"
    }
   ],
   "source": [
    "WorkflowConfig.model_fields"
   ]
  },
  {
   "cell_type": "code",
   "execution_count": null,
   "id": "4c33b188",
   "metadata": {},
   "outputs": [
    {
     "data": {
      "text/plain": [
       "'{\"assay\":\"rna\",\"project\":{\"name\":\"Test Project\",\"date\":\"2025-07-27T18:46:49.632023\",\"directory\":\"test_directory\"},\"genome\":{\"name\":\"GRCh38\",\"index\":{\"type\":\"Bowtie2\",\"prefix\":\"../../../reference/hg38_ecoli_b2t_index/bt2_index/hg38_ecoli\"},\"fasta\":null,\"chromosome_sizes\":null,\"gtf\":null,\"genes\":null,\"blacklist\":null,\"organism\":null,\"version\":null},\"metadata\":\"test_metadata.yaml\",\"pcr_duplicates\":{\"strategy\":\"none\",\"tool\":\"picard\"},\"qc\":{\"library_size\":true,\"fraction_of_reads_in_peaks\":true},\"assay_config\":null,\"options\":\"bamnado:\\\\n  bamcoverage: --bin-size 10 --norm-method cpm\\\\n  threads: 8\\\\ndeeptools:\\\\n  alignmentsieve: --minMappingQuality 30\\\\n  bamcoverage: -bs 1 --normalizeUsing CPM\\\\n  threads: 16\\\\nfeaturecounts:\\\\n  options: -s 0 -p --countReadPairs -t exon -g gene_id\\\\n  threads: 16\\\\nheatmap:\\\\n  colormap: RdYlBu_r\\\\n  options: -b 1000 -m 5000 -a 1000 --binSize 50\\\\nhomer:\\\\n  makebigwig: null\\\\n  maketagdirectory: null\\\\npicard:\\\\n  options: null\\\\n  threads: 8\\\\nsalmon:\\\\n  options: --libType A\\\\n  threads: 16\\\\nsamtools:\\\\n  filter_options: -f 2\\\\n  threads: 16\\\\nstar:\\\\n  options: --quantMode TranscriptomeSAM GeneCounts --outSAMunmapped Within --outSAMattributes\\\\n    Standard\\\\n  threads: 16\\\\ntrim_galore:\\\\n  options: --2colour 20\\\\n  threads: 4\\\\n\"}'"
      ]
     },
     "execution_count": 6,
     "metadata": {},
     "output_type": "execute_result"
    }
   ],
   "source": [
    "dumped"
   ]
  },
  {
   "cell_type": "code",
   "execution_count": null,
   "id": "a7c3ca8b",
   "metadata": {},
   "outputs": [],
   "source": [
    "env = Environment(loader=FileSystemLoader(\".\"))\n",
    "template = env.get_template(\"template.jinja\")"
   ]
  },
  {
   "cell_type": "code",
   "execution_count": null,
   "id": "151b3089",
   "metadata": {},
   "outputs": [],
   "source": [
    "with open(\"output.yml\", \"w\") as f:\n",
    "    r = wc.model_dump(mode=\"json\", exclude_none=True)\n",
    "    r = template.render(**r)\n",
    "    f.write(r)\n"
   ]
  },
  {
   "cell_type": "code",
   "execution_count": null,
   "id": "6b936463",
   "metadata": {},
   "outputs": [],
   "source": []
  }
 ],
 "metadata": {
  "kernelspec": {
   "display_name": "seqnado",
   "language": "python",
   "name": "python3"
  },
  "language_info": {
   "codemirror_mode": {
    "name": "ipython",
    "version": 3
   },
   "file_extension": ".py",
   "mimetype": "text/x-python",
   "name": "python",
   "nbconvert_exporter": "python",
   "pygments_lexer": "ipython3",
   "version": "3.12.11"
  }
 },
 "nbformat": 4,
 "nbformat_minor": 5
}
